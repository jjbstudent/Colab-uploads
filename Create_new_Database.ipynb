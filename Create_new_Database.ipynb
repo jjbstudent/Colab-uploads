{
  "nbformat": 4,
  "nbformat_minor": 0,
  "metadata": {
    "colab": {
      "provenance": [],
      "authorship_tag": "ABX9TyPFe6UHTvGAlqsJjPn0ccco",
      "include_colab_link": true
    },
    "kernelspec": {
      "name": "python3",
      "display_name": "Python 3"
    },
    "language_info": {
      "name": "python"
    }
  },
  "cells": [
    {
      "cell_type": "markdown",
      "metadata": {
        "id": "view-in-github",
        "colab_type": "text"
      },
      "source": [
        "<a href=\"https://colab.research.google.com/github/jjbstudent/Colab-uploads/blob/main/Create_new_Database.ipynb\" target=\"_parent\"><img src=\"https://colab.research.google.com/assets/colab-badge.svg\" alt=\"Open In Colab\"/></a>"
      ]
    },
    {
      "cell_type": "code",
      "source": [
        "# prompt: create table heads for columns , asset id, location, device\n",
        "\n",
        "import sqlite3\n",
        "\n",
        "conn = sqlite3.connect('mydatabase.db')\n",
        "cursor = conn.cursor()\n",
        "\n",
        "# Create a table\n",
        "cursor.execute('''CREATE TABLE IF NOT EXISTS assets\n",
        "             (asset_id INTEGER PRIMARY KEY, location TEXT, device TEXT)''')\n",
        "\n",
        "conn.commit()\n",
        "conn.close()\n"
      ],
      "metadata": {
        "id": "VAnFbiFeWaM2"
      },
      "execution_count": 4,
      "outputs": []
    }
  ]
}