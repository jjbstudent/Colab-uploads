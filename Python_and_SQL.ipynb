{
  "nbformat": 4,
  "nbformat_minor": 0,
  "metadata": {
    "colab": {
      "provenance": [],
      "authorship_tag": "ABX9TyNrsSfDZusryyPLuNzboYg5",
      "include_colab_link": true
    },
    "kernelspec": {
      "name": "python3",
      "display_name": "Python 3"
    },
    "language_info": {
      "name": "python"
    }
  },
  "cells": [
    {
      "cell_type": "markdown",
      "metadata": {
        "id": "view-in-github",
        "colab_type": "text"
      },
      "source": [
        "<a href=\"https://colab.research.google.com/github/jjbstudent/Colab-uploads/blob/main/Python_and_SQL.ipynb\" target=\"_parent\"><img src=\"https://colab.research.google.com/assets/colab-badge.svg\" alt=\"Open In Colab\"/></a>"
      ]
    },
    {
      "cell_type": "code",
      "source": [
        "#example of using SQL and python\n",
        "\n",
        "import sqlite3\n",
        "\n",
        "connection = sqlite3.connect(\"mydb.db\")\n",
        "\n",
        "cursor = connection.cursor()"
      ],
      "metadata": {
        "id": "U7nqXiZ2-oc9"
      },
      "execution_count": 1,
      "outputs": []
    },
    {
      "cell_type": "code",
      "source": [
        "def makeTable():\n",
        "    #Make the database table if it does not exist\n",
        "    #the SQl will make a table called main, add an id, name and colour field\n",
        "    command1 = \"CREATE TABLE IF NOT EXISTS main(id INTEGER PRIMARY KEY, name TEXT, colour TEXT)\"\n",
        "    cursor.execute(command1)\n",
        "\n",
        "    #add values into the table\n",
        "    cursor.execute(\"INSERT INTO main VALUES (1, 'Mario', 'Red')\")\n",
        "    cursor.execute(\"INSERT INTO main VALUES (2, 'Luigi', 'Green')\")\n",
        "    cursor.execute(\"INSERT INTO main VALUES (3, 'Bowser', 'Purple')\")\n",
        "    cursor.execute(\"INSERT INTO main VALUES (4, 'Wario', 'Yellow')\")\n",
        "\n",
        "    #make the data permanent\n",
        "    connection.commit()\n",
        "\n",
        "#run the function to make the table\n",
        "makeTable()"
      ],
      "metadata": {
        "id": "iIYTsnYQ-vEs"
      },
      "execution_count": 2,
      "outputs": []
    },
    {
      "cell_type": "code",
      "source": [
        "cursor.execute('SELECT * FROM main')\n",
        "results = cursor.fetchall()\n",
        "print(\"ALL: \",results)"
      ],
      "metadata": {
        "colab": {
          "base_uri": "https://localhost:8080/"
        },
        "id": "fq9q5X9t-y7E",
        "outputId": "61794821-a502-44c6-adc6-030ab7209843"
      },
      "execution_count": 3,
      "outputs": [
        {
          "output_type": "stream",
          "name": "stdout",
          "text": [
            "ALL:  [(1, 'Mario', 'Red'), (2, 'Luigi', 'Green'), (3, 'Bowser', 'Purple'), (4, 'Wario', 'Yellow')]\n"
          ]
        }
      ]
    },
    {
      "cell_type": "code",
      "source": [
        "# 1 record of a person by id\n",
        "cursor.execute(\"SELECT * FROM main WHERE id = 2\")\n",
        "result = cursor.fetchall()\n",
        "print (\"Just ID 2: \",results)"
      ],
      "metadata": {
        "colab": {
          "base_uri": "https://localhost:8080/"
        },
        "id": "636ksylP_t7l",
        "outputId": "7864aaf7-8a72-4b0f-e4b5-0da830cdf9f1"
      },
      "execution_count": 4,
      "outputs": [
        {
          "output_type": "stream",
          "name": "stdout",
          "text": [
            "Just ID 2:  [(1, 'Mario', 'Red'), (2, 'Luigi', 'Green'), (3, 'Bowser', 'Purple'), (4, 'Wario', 'Yellow')]\n"
          ]
        }
      ]
    },
    {
      "cell_type": "code",
      "source": [
        "# run the function to make the table\n",
        "# maketable()\n",
        "cursor.execute(\"INSERT INTO main VALUES (6, 'Wario', 'Yellow')\")"
      ],
      "metadata": {
        "colab": {
          "base_uri": "https://localhost:8080/"
        },
        "id": "vaKuBpcbAl6R",
        "outputId": "a3feef5a-3df0-480b-fe20-fa38fb98b7e2"
      },
      "execution_count": 6,
      "outputs": [
        {
          "output_type": "execute_result",
          "data": {
            "text/plain": [
              "<sqlite3.Cursor at 0x7a8dc2575640>"
            ]
          },
          "metadata": {},
          "execution_count": 6
        }
      ]
    },
    {
      "cell_type": "code",
      "source": [
        "# prompt: display table with updates\n",
        "\n",
        "connection.commit()\n",
        "cursor.execute('SELECT * FROM main')\n",
        "results = cursor.fetchall()\n",
        "print(\"ALL: \",results)\n"
      ],
      "metadata": {
        "colab": {
          "base_uri": "https://localhost:8080/"
        },
        "id": "qMhPGDGpZdz5",
        "outputId": "8e1193cf-f94a-4e65-f5e4-26a144333329"
      },
      "execution_count": 7,
      "outputs": [
        {
          "output_type": "stream",
          "name": "stdout",
          "text": [
            "ALL:  [(1, 'Mario', 'Red'), (2, 'Luigi', 'Green'), (3, 'Bowser', 'Purple'), (4, 'Wario', 'Yellow'), (6, 'Wario', 'Yellow')]\n"
          ]
        }
      ]
    },
    {
      "cell_type": "markdown",
      "source": [
        "You can’t add any data into the database with python if you have it open in the DB viewer… as the file will be locked!\n",
        "\n",
        "So you need to close the viewer while running any SQL that will write to the database.\n",
        "\n",
        "There are many more SQL queries you can try! Have a go and see what you can do!  https://www.w3schools.com/sql/sql_syntax.asp"
      ],
      "metadata": {
        "id": "jvIGrULfBY_d"
      }
    }
  ]
}